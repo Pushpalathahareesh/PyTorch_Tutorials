{
 "cells": [
  {
   "cell_type": "code",
   "execution_count": 1,
   "id": "8f53d623",
   "metadata": {},
   "outputs": [],
   "source": [
    "import torch\n",
    "import torchvision\n",
    "from torchvision.datasets import CIFAR100"
   ]
  },
  {
   "cell_type": "code",
   "execution_count": 2,
   "id": "8d1f792c",
   "metadata": {},
   "outputs": [
    {
     "ename": "NameError",
     "evalue": "name 'CIFAR10' is not defined",
     "output_type": "error",
     "traceback": [
      "\u001b[1;31m---------------------------------------------------------------------------\u001b[0m",
      "\u001b[1;31mNameError\u001b[0m                                 Traceback (most recent call last)",
      "\u001b[1;32m<ipython-input-2-206181daf928>\u001b[0m in \u001b[0;36m<module>\u001b[1;34m\u001b[0m\n\u001b[0;32m      1\u001b[0m \u001b[1;31m# Download training dataset\u001b[0m\u001b[1;33m\u001b[0m\u001b[1;33m\u001b[0m\u001b[1;33m\u001b[0m\u001b[0m\n\u001b[1;32m----> 2\u001b[1;33m \u001b[0mdataset\u001b[0m \u001b[1;33m=\u001b[0m \u001b[0mCIFAR10\u001b[0m\u001b[1;33m(\u001b[0m\u001b[0mroot\u001b[0m\u001b[1;33m=\u001b[0m\u001b[1;34m'cifardata/'\u001b[0m\u001b[1;33m,\u001b[0m \u001b[0mdownload\u001b[0m\u001b[1;33m=\u001b[0m\u001b[1;32mTrue\u001b[0m\u001b[1;33m)\u001b[0m\u001b[1;33m\u001b[0m\u001b[1;33m\u001b[0m\u001b[0m\n\u001b[0m",
      "\u001b[1;31mNameError\u001b[0m: name 'CIFAR10' is not defined"
     ]
    }
   ],
   "source": [
    "# Download training dataset\n",
    "dataset = CIFAR100(root='cifardata/', download=True)"
   ]
  },
  {
   "cell_type": "code",
   "execution_count": 3,
   "id": "c85a5cd3",
   "metadata": {},
   "outputs": [
    {
     "name": "stdout",
     "output_type": "stream",
     "text": [
      "(<PIL.Image.Image image mode=L size=28x28 at 0x1B31560C430>, 9)\n"
     ]
    },
    {
     "data": {
      "text/plain": [
       "60000"
      ]
     },
     "execution_count": 3,
     "metadata": {},
     "output_type": "execute_result"
    }
   ],
   "source": [
    "print(dataset[4])\n",
    "len(dataset)"
   ]
  },
  {
   "cell_type": "code",
   "execution_count": 4,
   "id": "98c0bcad",
   "metadata": {},
   "outputs": [
    {
     "data": {
      "text/plain": [
       "10000"
      ]
     },
     "execution_count": 4,
     "metadata": {},
     "output_type": "execute_result"
    }
   ],
   "source": [
    "test_dataset = MNIST(root='data/', train=False)\n",
    "len(test_dataset)"
   ]
  },
  {
   "cell_type": "code",
   "execution_count": 5,
   "id": "183b862d",
   "metadata": {},
   "outputs": [],
   "source": [
    "import matplotlib.pyplot as plt\n",
    "%matplotlib inline"
   ]
  },
  {
   "cell_type": "code",
   "execution_count": 6,
   "id": "25d02215",
   "metadata": {},
   "outputs": [
    {
     "name": "stdout",
     "output_type": "stream",
     "text": [
      "<class 'PIL.Image.Image'>\n",
      "Label: 9\n"
     ]
    },
    {
     "data": {
      "image/png": "[encoded data removed]",
      "text/plain": [
       "<Figure size 432x288 with 1 Axes>"
      ]
     },
     "metadata": {
      "needs_background": "light"
     },
     "output_type": "display_data"
    }
   ],
   "source": [
    "image, label = dataset[4]\n",
    "print(type(image))\n",
    "plt.imshow(image, cmap='gray')\n",
    "print('Label:', label)"
   ]
  },
  {
   "cell_type": "code",
   "execution_count": 7,
   "id": "f1b785a5",
   "metadata": {},
   "outputs": [],
   "source": [
    "import torchvision.transforms as transforms"
   ]
  },
  {
   "cell_type": "code",
   "execution_count": 8,
   "id": "c5cfa986",
   "metadata": {},
   "outputs": [
    {
     "name": "stdout",
     "output_type": "stream",
     "text": [
      "torch.Size([1, 28, 28]) 9\n"
     ]
    }
   ],
   "source": [
    "# MNIST dataset (images and labels)\n",
    "dataset = MNIST(root='data/', \n",
    "                train=True,\n",
    "                transform=transforms.ToTensor())\n",
    "img_tensor, label = dataset[4]\n",
    "print(img_tensor.shape, label)"
   ]
  },
  {
   "cell_type": "code",
   "execution_count": 9,
   "id": "5e9afbfb",
   "metadata": {},
   "outputs": [
    {
     "name": "stdout",
     "output_type": "stream",
     "text": [
      "torch.Size([1, 28, 28])\n"
     ]
    }
   ],
   "source": [
    "print(img_tensor.shape)"
   ]
  },
  {
   "cell_type": "code",
   "execution_count": 10,
   "id": "0b60f808",
   "metadata": {},
   "outputs": [
    {
     "data": {
      "text/plain": [
       "<matplotlib.image.AxesImage at 0x1b31b6dc7f0>"
      ]
     },
     "execution_count": 10,
     "metadata": {},
     "output_type": "execute_result"
    },
    {
     "data": {
      "image/png": "[encoded data removed]",
      "text/plain": [
       "<Figure size 432x288 with 1 Axes>"
      ]
     },
     "metadata": {
      "needs_background": "light"
     },
     "output_type": "display_data"
    }
   ],
   "source": [
    "# Plot the image by passing in the 28x28 matrix\n",
    "plt.imshow(img_tensor[0,10:15,10:15], cmap='gray')"
   ]
  },
  {
   "cell_type": "code",
   "execution_count": 11,
   "id": "6f2be857",
   "metadata": {},
   "outputs": [
    {
     "name": "stdout",
     "output_type": "stream",
     "text": [
      "enter the validation split percentage30\n"
     ]
    },
    {
     "data": {
      "text/plain": [
       "(42000, 18000)"
      ]
     },
     "execution_count": 11,
     "metadata": {},
     "output_type": "execute_result"
    }
   ],
   "source": [
    "from torch.utils.data import random_split\n",
    "val_split_per=float(input(\"enter the validation split percentage\"))\n",
    "total=60000\n",
    "val_split=int(val_split_per/100 * total)\n",
    "train_split=total-val_split\n",
    "train_ds, val_ds = random_split(dataset, [train_split,val_split])# [50000, 10000]#changing the validation split\n",
    "len(train_ds), len(val_ds)"
   ]
  },
  {
   "cell_type": "code",
   "execution_count": 12,
   "id": "55e595a9",
   "metadata": {},
   "outputs": [
    {
     "name": "stdout",
     "output_type": "stream",
     "text": [
      "enter the batch size based on 2^x128\n"
     ]
    }
   ],
   "source": [
    "from torch.utils.data import DataLoader\n",
    "\n",
    "batch_size =int(input(\"enter the batch size based on 2^x\"))\n",
    "\n",
    "train_loader = DataLoader(train_ds, batch_size, shuffle=True)#can load in batches,shuffle set to true generalizez the model well\n",
    "val_loader = DataLoader(val_ds, batch_size)#since the validation data loader is used only for evaluating the model, there is no need to shuffle the images."
   ]
  },
  {
   "cell_type": "code",
   "execution_count": 13,
   "id": "b96a97dd",
   "metadata": {},
   "outputs": [
    {
     "name": "stdout",
     "output_type": "stream",
     "text": [
      "<class 'torch.utils.data.dataloader.DataLoader'>\n"
     ]
    }
   ],
   "source": [
    "print(type(train_loader))"
   ]
  },
  {
   "cell_type": "code",
   "execution_count": 14,
   "id": "6016530a",
   "metadata": {},
   "outputs": [],
   "source": [
    "import torch.nn as nn\n",
    "\n",
    "input_size=28*28\n",
    "num_classes=10\n",
    "\n",
    "#linear regression model\n",
    "model=nn.Linear(input_size,num_classes)#used to create the model"
   ]
  },
  {
   "cell_type": "code",
   "execution_count": 15,
   "id": "82c5cdb1",
   "metadata": {},
   "outputs": [
    {
     "name": "stdout",
     "output_type": "stream",
     "text": [
      "Parameter containing:\n",
      "tensor([[-0.0347,  0.0320, -0.0082,  ..., -0.0035,  0.0228, -0.0091],\n",
      "        [-0.0254, -0.0258,  0.0075,  ...,  0.0183, -0.0097, -0.0303],\n",
      "        [-0.0056,  0.0127,  0.0162,  ...,  0.0273,  0.0097,  0.0050],\n",
      "        ...,\n",
      "        [-0.0342, -0.0257,  0.0241,  ...,  0.0344,  0.0053, -0.0096],\n",
      "        [-0.0177, -0.0075,  0.0119,  ...,  0.0156, -0.0207, -0.0316],\n",
      "        [ 0.0161,  0.0334,  0.0281,  ..., -0.0252, -0.0242, -0.0097]],\n",
      "       requires_grad=True)\n",
      "torch.Size([10, 784])\n"
     ]
    }
   ],
   "source": [
    "print(model.weight)\n",
    "print(model.weight.shape)"
   ]
  },
  {
   "cell_type": "code",
   "execution_count": 16,
   "id": "7e6b258a",
   "metadata": {},
   "outputs": [
    {
     "name": "stdout",
     "output_type": "stream",
     "text": [
      "torch.Size([10])\n",
      "Parameter containing:\n",
      "tensor([-1.2571e-02,  7.0215e-03, -7.3934e-03,  3.3076e-02,  8.9652e-03,\n",
      "         1.6689e-02, -2.0552e-05,  1.4497e-03,  2.8069e-02,  9.6291e-03],\n",
      "       requires_grad=True)\n"
     ]
    }
   ],
   "source": [
    "print(model.bias.shape)\n",
    "print(model.bias)"
   ]
  },
  {
   "cell_type": "code",
   "execution_count": 17,
   "id": "d7eaba71",
   "metadata": {},
   "outputs": [],
   "source": [
    "#extend the nn.Module class from PyTorch to define a custom model.\n",
    "\n",
    "class MnistModel(nn.Module):\n",
    "    def __init__(self):\n",
    "        super().__init__()\n",
    "        self.Linear=nn.Linear(input_size,num_classes)#creating the model\n",
    "    def forward(self,xb):\n",
    "        xb=xb.reshape(-1,784)#resizing the data\n",
    "        out=self.Linear(xb)\n",
    "        return out"
   ]
  },
  {
   "cell_type": "code",
   "execution_count": 18,
   "id": "6e28e825",
   "metadata": {},
   "outputs": [],
   "source": [
    "model=MnistModel()"
   ]
  },
  {
   "cell_type": "code",
   "execution_count": 19,
   "id": "ea99655e",
   "metadata": {},
   "outputs": [
    {
     "name": "stdout",
     "output_type": "stream",
     "text": [
      "Linear(in_features=784, out_features=10, bias=True)\n",
      "torch.Size([10, 784]) torch.Size([10])\n"
     ]
    }
   ],
   "source": [
    "print(model.Linear)\n",
    "print(model.Linear.weight.shape,model.Linear.bias.shape)"
   ]
  },
  {
   "cell_type": "code",
   "execution_count": 20,
   "id": "7bac0688",
   "metadata": {},
   "outputs": [
    {
     "name": "stdout",
     "output_type": "stream",
     "text": [
      "torch.Size([128, 1, 28, 28])\n",
      "outputs.shape :  torch.Size([128, 10])\n",
      "Sample outputs :\n",
      " tensor([[-0.0486,  0.1015,  0.0360,  0.0963,  0.0544,  0.2211,  0.1483, -0.2455,\n",
      "         -0.2287, -0.1747],\n",
      "        [-0.0817, -0.0583, -0.0579, -0.2238,  0.1755,  0.1053, -0.1246, -0.2331,\n",
      "         -0.3795,  0.0173]])\n"
     ]
    }
   ],
   "source": [
    "for images,labels in train_loader:\n",
    "    print(images.shape)\n",
    "    outputs=model(images)\n",
    "    break\n",
    "print('outputs.shape : ', outputs.shape)\n",
    "print('Sample outputs :\\n', outputs[:2].data)    "
   ]
  },
  {
   "cell_type": "code",
   "execution_count": 21,
   "id": "2d0ba53d",
   "metadata": {},
   "outputs": [],
   "source": [
    "import torch.nn.functional as F"
   ]
  },
  {
   "cell_type": "code",
   "execution_count": 22,
   "id": "e1e07136",
   "metadata": {},
   "outputs": [
    {
     "name": "stdout",
     "output_type": "stream",
     "text": [
      "tensor([[0.0945, 0.1098, 0.1029, 0.1093, 0.1048, 0.1238, 0.1151, 0.0776, 0.0789,\n",
      "         0.0833],\n",
      "        [0.0992, 0.1016, 0.1016, 0.0861, 0.1283, 0.1196, 0.0951, 0.0853, 0.0737,\n",
      "         0.1095]])\n"
     ]
    }
   ],
   "source": [
    "# Apply softmax for each output row\n",
    "prob=F.softmax(outputs,dim=1)#converting the logits to range between probability 0 to 1 using softwmax function\n",
    "print(prob.data[:2])"
   ]
  },
  {
   "cell_type": "code",
   "execution_count": 23,
   "id": "e27b6a1a",
   "metadata": {},
   "outputs": [
    {
     "name": "stdout",
     "output_type": "stream",
     "text": [
      "1.0000001192092896\n"
     ]
    }
   ],
   "source": [
    "print(torch.sum(prob[0]).item())"
   ]
  },
  {
   "cell_type": "code",
   "execution_count": 24,
   "id": "bba71766",
   "metadata": {},
   "outputs": [],
   "source": [
    "#to compute binary cross entropy loss(ypred,ytrue)=-summation on i training samples (ytrue)* log(ypred)\n",
    "\n",
    "loss_func=F.cross_entropy(outputs,labels)"
   ]
  },
  {
   "cell_type": "code",
   "execution_count": 25,
   "id": "0457eb1e",
   "metadata": {},
   "outputs": [
    {
     "name": "stdout",
     "output_type": "stream",
     "text": [
      "tensor(2.3310, grad_fn=<NllLossBackward>)\n"
     ]
    }
   ],
   "source": [
    "print(loss_func)"
   ]
  },
  {
   "cell_type": "code",
   "execution_count": 26,
   "id": "f52af84a",
   "metadata": {},
   "outputs": [],
   "source": [
    "#extend the nn.Module class from PyTorch to define a custom model.\n",
    "\n",
    "class MnistModel(nn.Module):\n",
    "    def __init__(self):\n",
    "        super().__init__()\n",
    "        self.Linear=nn.Linear(input_size,num_classes)#creating the model\n",
    "    def forward(self,xb):\n",
    "        xb=xb.reshape(-1,784)#reshaping the data\n",
    "        out=self.Linear(xb)\n",
    "        return out\n",
    "    def training_step(self, batch):\n",
    "        images,labels=batch\n",
    "        out=self(images) \n",
    "        loss=F.cross_entropy(out,labels)#generate predictions and calculate loss function\n",
    "        return loss\n",
    "    def validation_step(self, batch):\n",
    "        images,labels=batch\n",
    "        out=self(images) \n",
    "        loss=F.cross_entropy(out,labels)#generate predictions and calculate accuracy\n",
    "        acc=accuracy(out,labels)\n",
    "        return {'val_loss':loss,'val_acc':acc}\n",
    "    def validation_epoch_end(self, outputs):\n",
    "        batch_losses = [x['val_loss'] for x in outputs]\n",
    "        epoch_loss = torch.stack(batch_losses).mean()   # Combine losses\n",
    "        batch_accs = [x['val_acc'] for x in outputs]\n",
    "        epoch_acc = torch.stack(batch_accs).mean()      # Combine accuracies\n",
    "        return {'val_loss': epoch_loss.item(), 'val_acc': epoch_acc.item()}\n",
    "    \n",
    "    def epoch_end(self, epoch, result):\n",
    "        print(\"Epoch [{}], val_loss: {:.4f}, val_acc: {:.4f}\".format(epoch, result['val_loss'], result['val_acc']))\n",
    "    \n",
    "model = MnistModel()\n",
    "        \n",
    "    "
   ]
  },
  {
   "cell_type": "code",
   "execution_count": 27,
   "id": "0fffc740",
   "metadata": {},
   "outputs": [],
   "source": [
    "def evaluate(model, val_loader):\n",
    "    outputs = [model.validation_step(batch) for batch in val_loader]\n",
    "    #print(outputs)\n",
    "    return model.validation_epoch_end(outputs)"
   ]
  },
  {
   "cell_type": "code",
   "execution_count": 28,
   "id": "e7e9ff0f",
   "metadata": {},
   "outputs": [],
   "source": [
    "def accuracy(outputs, labels):\n",
    "    _, preds = torch.max(outputs, dim=1)\n",
    "    return torch.tensor(torch.sum(preds == labels).item() / len(preds))"
   ]
  },
  {
   "cell_type": "code",
   "execution_count": 29,
   "id": "bc6cb7f6",
   "metadata": {},
   "outputs": [],
   "source": [
    "#The fit function records the validation loss and metric from each epoch. It returns a history of the training, useful for debugging & visualization.\n",
    "def fit(epochs, lr, model, train_loader, val_loader, opt_func=torch.optim.SGD):\n",
    "    optimizer = opt_func(model.parameters(), lr)\n",
    "    history = [] # for recording epoch-wise results\n",
    "    loss_lst=[]\n",
    "    out=0\n",
    "    count=0\n",
    "    for epoch in range(epochs):\n",
    "        \n",
    "        # Training Phase  using batch gradient descent\n",
    "        for batch in train_loader:\n",
    "            loss = model.training_step(batch)#generate pred and calc loss(computing total loss per batch)\n",
    "            #count+=1\n",
    "            #print(type(loss))\n",
    "            #out+=torch.add(loss,0)\n",
    "            #print(out)\n",
    "            #out=out/count#computing avg loss for whole batch\n",
    "        #print(out)\n",
    "            loss.backward(retain_graph=True)#compute gradient\n",
    "            optimizer.step()#update weigts\n",
    "            optimizer.zero_grad()#reset grad\n",
    "        #print(type(loss))    \n",
    "        #loss_lst.append(out)    \n",
    "        #print(loss_lst)\n",
    "        #print(out)\n",
    "        # Validation phase\n",
    "        result = evaluate(model, val_loader)#generate pred and cal validation acc\n",
    "        print(result)\n",
    "        model.epoch_end(epoch, result)\n",
    "        history.append(result)\n",
    "\n",
    "    return history"
   ]
  },
  {
   "cell_type": "code",
   "execution_count": 30,
   "id": "2fecad7d",
   "metadata": {},
   "outputs": [
    {
     "name": "stdout",
     "output_type": "stream",
     "text": [
      "{'val_loss': 0.9669449329376221, 'val_acc': 0.8246121406555176}\n",
      "Epoch [0], val_loss: 0.9669, val_acc: 0.8246\n",
      "{'val_loss': 0.7198492884635925, 'val_acc': 0.8472850322723389}\n",
      "Epoch [1], val_loss: 0.7198, val_acc: 0.8473\n",
      "{'val_loss': 0.6191131472587585, 'val_acc': 0.8572806119918823}\n",
      "Epoch [2], val_loss: 0.6191, val_acc: 0.8573\n"
     ]
    }
   ],
   "source": [
    "history0 = fit(3, 0.01, model, train_loader, val_loader)"
   ]
  },
  {
   "cell_type": "code",
   "execution_count": 31,
   "id": "39b5bf7f",
   "metadata": {},
   "outputs": [
    {
     "name": "stdout",
     "output_type": "stream",
     "text": [
      "{'val_loss': 0.6116743683815002, 'val_acc': 0.8597185611724854}\n",
      "Epoch [0], val_loss: 0.6117, val_acc: 0.8597\n",
      "{'val_loss': 0.6048447489738464, 'val_acc': 0.8609929084777832}\n",
      "Epoch [1], val_loss: 0.6048, val_acc: 0.8610\n",
      "{'val_loss': 0.5984717011451721, 'val_acc': 0.8616024255752563}\n",
      "Epoch [2], val_loss: 0.5985, val_acc: 0.8616\n",
      "{'val_loss': 0.5924443006515503, 'val_acc': 0.8627105355262756}\n",
      "Epoch [3], val_loss: 0.5924, val_acc: 0.8627\n",
      "{'val_loss': 0.5866581201553345, 'val_acc': 0.8633532524108887}\n",
      "Epoch [4], val_loss: 0.5867, val_acc: 0.8634\n"
     ]
    }
   ],
   "source": [
    "history1 = fit(5, 0.001, model, train_loader, val_loader)#trained for 5 epochs,LR=0.001"
   ]
  },
  {
   "cell_type": "code",
   "execution_count": 32,
   "id": "b3413213",
   "metadata": {},
   "outputs": [
    {
     "name": "stdout",
     "output_type": "stream",
     "text": [
      "{'val_loss': 0.5860944986343384, 'val_acc': 0.8633532524108887}\n",
      "Epoch [0], val_loss: 0.5861, val_acc: 0.8634\n",
      "{'val_loss': 0.5855334401130676, 'val_acc': 0.8634086847305298}\n",
      "Epoch [1], val_loss: 0.5855, val_acc: 0.8634\n",
      "{'val_loss': 0.5849792957305908, 'val_acc': 0.8636302947998047}\n",
      "Epoch [2], val_loss: 0.5850, val_acc: 0.8636\n",
      "{'val_loss': 0.5844252109527588, 'val_acc': 0.8637410998344421}\n",
      "Epoch [3], val_loss: 0.5844, val_acc: 0.8637\n",
      "{'val_loss': 0.5838741064071655, 'val_acc': 0.8637965321540833}\n",
      "Epoch [4], val_loss: 0.5839, val_acc: 0.8638\n",
      "{'val_loss': 0.5833244323730469, 'val_acc': 0.8639073371887207}\n",
      "Epoch [5], val_loss: 0.5833, val_acc: 0.8639\n",
      "{'val_loss': 0.5827780365943909, 'val_acc': 0.8640735745429993}\n",
      "Epoch [6], val_loss: 0.5828, val_acc: 0.8641\n",
      "{'val_loss': 0.5822324156761169, 'val_acc': 0.8641843795776367}\n",
      "Epoch [7], val_loss: 0.5822, val_acc: 0.8642\n",
      "{'val_loss': 0.5816946625709534, 'val_acc': 0.8641843795776367}\n",
      "Epoch [8], val_loss: 0.5817, val_acc: 0.8642\n",
      "{'val_loss': 0.5811553597450256, 'val_acc': 0.8643506169319153}\n",
      "Epoch [9], val_loss: 0.5812, val_acc: 0.8644\n"
     ]
    }
   ],
   "source": [
    "history2 = fit(10, 0.0001, model, train_loader, val_loader)#trained for 5 epochs,LR=0.001"
   ]
  },
  {
   "cell_type": "code",
   "execution_count": 33,
   "id": "6e8f786a",
   "metadata": {},
   "outputs": [
    {
     "name": "stdout",
     "output_type": "stream",
     "text": [
      "{'val_loss': 0.5811553597450256, 'val_acc': 0.8643506169319153}\n"
     ]
    }
   ],
   "source": [
    "result0 = evaluate(model, val_loader)\n",
    "print(result0)"
   ]
  },
  {
   "cell_type": "code",
   "execution_count": 34,
   "id": "ac9b7d2d",
   "metadata": {},
   "outputs": [
    {
     "data": {
      "image/png": "[encoded data removed]",
      "text/plain": [
       "<Figure size 432x288 with 1 Axes>"
      ]
     },
     "metadata": {
      "needs_background": "light"
     },
     "output_type": "display_data"
    }
   ],
   "source": [
    "history = [result0] + history0+history1 + history2\n",
    "accuracies = [result['val_acc'] for result in history]\n",
    "plt.plot(accuracies, '-x')\n",
    "plt.xlabel('epoch')\n",
    "plt.ylabel('accuracy')\n",
    "plt.title('Accuracy vs. No. of epochs');"
   ]
  },
  {
   "cell_type": "code",
   "execution_count": 35,
   "id": "43e58f65",
   "metadata": {},
   "outputs": [],
   "source": [
    "#Testing with individual images\n",
    "\n",
    "test_dataset = MNIST(root='data/', \n",
    "                     train=False,\n",
    "                     transform=transforms.ToTensor())"
   ]
  },
  {
   "cell_type": "code",
   "execution_count": 36,
   "id": "a8444be2",
   "metadata": {},
   "outputs": [
    {
     "name": "stdout",
     "output_type": "stream",
     "text": [
      "torch.Size([1, 28, 28])\n",
      "Shape: torch.Size([1, 28, 28])\n",
      "Label: 4\n"
     ]
    },
    {
     "data": {
      "image/png": "[encoded data removed]",
      "text/plain": [
       "<Figure size 432x288 with 1 Axes>"
      ]
     },
     "metadata": {
      "needs_background": "light"
     },
     "output_type": "display_data"
    }
   ],
   "source": [
    "#display of image\n",
    "img, label = test_dataset[4]\n",
    "print(img.shape)\n",
    "plt.imshow(img[0], cmap='gray')\n",
    "print('Shape:', img.shape)\n",
    "print('Label:', label)"
   ]
  },
  {
   "cell_type": "code",
   "execution_count": 37,
   "id": "7760d6c5",
   "metadata": {},
   "outputs": [
    {
     "data": {
      "text/plain": [
       "{'val_loss': 0.5497002601623535, 'val_acc': 0.87353515625}"
      ]
     },
     "execution_count": 37,
     "metadata": {},
     "output_type": "execute_result"
    }
   ],
   "source": [
    "# overall loss and accuracy of the model on the test set\n",
    "test_loader = DataLoader(test_dataset, batch_size=256)\n",
    "result = evaluate(model, test_loader)\n",
    "result"
   ]
  },
  {
   "cell_type": "code",
   "execution_count": 38,
   "id": "bd048081",
   "metadata": {},
   "outputs": [],
   "source": [
    "#saving and loading the model for later use\n",
    "torch.save(model.state_dict(), 'mnist-logistic.pth')"
   ]
  },
  {
   "cell_type": "code",
   "execution_count": 39,
   "id": "cd4273ce",
   "metadata": {},
   "outputs": [
    {
     "name": "stdout",
     "output_type": "stream",
     "text": [
      "OrderedDict([('Linear.weight', tensor([[-0.0129,  0.0003, -0.0049,  ...,  0.0281, -0.0125, -0.0126],\n",
      "        [-0.0080, -0.0087, -0.0230,  ..., -0.0012,  0.0252, -0.0213],\n",
      "        [-0.0065, -0.0283, -0.0144,  ...,  0.0233,  0.0338,  0.0283],\n",
      "        ...,\n",
      "        [ 0.0276, -0.0073, -0.0327,  ...,  0.0315, -0.0190, -0.0076],\n",
      "        [-0.0293, -0.0182, -0.0080,  ...,  0.0321, -0.0180, -0.0193],\n",
      "        [-0.0244, -0.0353, -0.0180,  ..., -0.0295, -0.0263, -0.0108]])), ('Linear.bias', tensor([-0.0407,  0.1442, -0.0375, -0.0277,  0.0473,  0.0975, -0.0085,  0.0275,\n",
      "        -0.1345, -0.0056]))])\n"
     ]
    }
   ],
   "source": [
    "print(model.state_dict())#ordereddict enclosing weigths and bias matrices"
   ]
  },
  {
   "cell_type": "code",
   "execution_count": null,
   "id": "d5dcef6e",
   "metadata": {},
   "outputs": [],
   "source": []
  },
  {
   "cell_type": "code",
   "execution_count": null,
   "id": "826b722b",
   "metadata": {},
   "outputs": [],
   "source": []
  },
  {
   "cell_type": "code",
   "execution_count": null,
   "id": "1832d204",
   "metadata": {},
   "outputs": [],
   "source": []
  }
 ],
 "metadata": {
  "kernelspec": {
   "display_name": "Python 3",
   "language": "python",
   "name": "python3"
  },
  "language_info": {
   "codemirror_mode": {
    "name": "ipython",
    "version": 3
   },
   "file_extension": ".py",
   "mimetype": "text/x-python",
   "name": "python",
   "nbconvert_exporter": "python",
   "pygments_lexer": "ipython3",
   "version": "3.9.2"
  }
 },
 "nbformat": 4,
 "nbformat_minor": 5
}
