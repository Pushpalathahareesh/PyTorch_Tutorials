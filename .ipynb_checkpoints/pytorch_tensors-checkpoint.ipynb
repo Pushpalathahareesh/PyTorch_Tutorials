{
 "cells": [
  {
   "cell_type": "code",
   "execution_count": 1,
   "id": "41401c80",
   "metadata": {},
   "outputs": [],
   "source": [
    "import torch"
   ]
  },
  {
   "cell_type": "code",
   "execution_count": 4,
   "id": "7a6ad97e",
   "metadata": {},
   "outputs": [
    {
     "name": "stdout",
     "output_type": "stream",
     "text": [
      "torch.Size([])\n",
      "torch.float32\n"
     ]
    }
   ],
   "source": [
    "#to create tensors in torch(number,vector,matrix)\n",
    "t1=torch.tensor(4.)\n",
    "print(t1.shape)\n",
    "print(t1.dtype)"
   ]
  },
  {
   "cell_type": "code",
   "execution_count": 9,
   "id": "a77ced3f",
   "metadata": {},
   "outputs": [
    {
     "name": "stdout",
     "output_type": "stream",
     "text": [
      "torch.Size([4])\n",
      "tensor([1., 2., 3., 4.])\n"
     ]
    }
   ],
   "source": [
    "t2=torch.tensor([1.,2,3,4])\n",
    "print(t2.shape)\n",
    "print(t2)"
   ]
  },
  {
   "cell_type": "code",
   "execution_count": 8,
   "id": "2c1ac6cf",
   "metadata": {},
   "outputs": [
    {
     "data": {
      "text/plain": [
       "tensor([[ 5.,  6.],\n",
       "        [ 7.,  8.],\n",
       "        [ 9., 10.]])"
      ]
     },
     "execution_count": 8,
     "metadata": {},
     "output_type": "execute_result"
    }
   ],
   "source": [
    "t3 = torch.tensor([[5., 6], \n",
    "                   [7, 8], \n",
    "                   [9, 10]])\n",
    "t3"
   ]
  },
  {
   "cell_type": "code",
   "execution_count": 10,
   "id": "469ef58b",
   "metadata": {},
   "outputs": [
    {
     "name": "stdout",
     "output_type": "stream",
     "text": [
      "torch.Size([2, 2, 3])\n"
     ]
    }
   ],
   "source": [
    "# 3-dimensional array\n",
    "t4 = torch.tensor([\n",
    "    [[11, 12, 13], \n",
    "     [13, 14, 15]], \n",
    "    [[15, 16, 17], \n",
    "     [17, 18, 19.]]])\n",
    "print(t4.shape)"
   ]
  },
  {
   "cell_type": "markdown",
   "id": "1c53ac9b",
   "metadata": {},
   "source": [
    "Tensor Operations and gradients"
   ]
  },
  {
   "cell_type": "code",
   "execution_count": 2,
   "id": "e48318a1",
   "metadata": {},
   "outputs": [
    {
     "name": "stdout",
     "output_type": "stream",
     "text": [
      "tensor(4.) tensor(3., requires_grad=True) tensor(5., requires_grad=True) tensor(6., requires_grad=True)\n"
     ]
    }
   ],
   "source": [
    "x=torch.tensor(4.)\n",
    "w=torch.tensor(3., requires_grad=True)#grad is computed\n",
    "b=torch.tensor(5., requires_grad=True)\n",
    "c=torch.tensor(6., requires_grad=True)\n",
    "print(x,w,b,c)"
   ]
  },
  {
   "cell_type": "code",
   "execution_count": 3,
   "id": "900f913e",
   "metadata": {},
   "outputs": [
    {
     "name": "stdout",
     "output_type": "stream",
     "text": [
      "tensor(23., grad_fn=<AddBackward0>)\n"
     ]
    }
   ],
   "source": [
    "z=x*w + b+c\n",
    "print(z)"
   ]
  },
  {
   "cell_type": "code",
   "execution_count": 4,
   "id": "0b8e26b1",
   "metadata": {},
   "outputs": [],
   "source": [
    "z.backward()"
   ]
  },
  {
   "cell_type": "code",
   "execution_count": 5,
   "id": "18f6ceb5",
   "metadata": {},
   "outputs": [
    {
     "name": "stdout",
     "output_type": "stream",
     "text": [
      "dz/dx None\n",
      "dz/dw tensor(4.)\n",
      "dz/db tensor(1.)\n",
      "dz/dc tensor(1.)\n"
     ]
    }
   ],
   "source": [
    "print(\"dz/dx\",x.grad)\n",
    "print(\"dz/dw\",w.grad)\n",
    "print(\"dz/db\",b.grad)\n",
    "print(\"dz/dc\",c.grad)"
   ]
  },
  {
   "cell_type": "code",
   "execution_count": 17,
   "id": "eea447d3",
   "metadata": {},
   "outputs": [
    {
     "name": "stdout",
     "output_type": "stream",
     "text": [
      "tensor([[42, 42],\n",
      "        [42, 42],\n",
      "        [42, 42]])\n",
      "tensor([[ 5.,  6.],\n",
      "        [ 7.,  8.],\n",
      "        [ 9., 10.],\n",
      "        [42., 42.],\n",
      "        [42., 42.],\n",
      "        [42., 42.]])\n",
      "torch.Size([6, 2])\n",
      "tensor([[[-0.9589, -0.2794],\n",
      "         [ 0.6570,  0.9894]],\n",
      "\n",
      "        [[ 0.4121, -0.5440],\n",
      "         [-0.9165, -0.9165]],\n",
      "\n",
      "        [[-0.9165, -0.9165],\n",
      "         [-0.9165, -0.9165]]])\n"
     ]
    }
   ],
   "source": [
    "#Tensor functions\n",
    "# Create a tensor with a fixed value for every element\n",
    "\n",
    "t6 = torch.full((3, 2), 42)\n",
    "print(t6)\n",
    "\n",
    "# Concatenate two tensors with compatible shapes\n",
    "t7 = torch.cat((t3, t6))\n",
    "print(t7)\n",
    "\n",
    "# Compute the sin of each element\n",
    "t8 = torch.sin(t7)\n",
    "print(t8.shape)\n",
    "\n",
    "# Change the shape of a tensor\n",
    "t9 = t8.reshape(3, 2, 2)\n",
    "print(t9)"
   ]
  },
  {
   "cell_type": "code",
   "execution_count": 21,
   "id": "e9296468",
   "metadata": {},
   "outputs": [
    {
     "name": "stdout",
     "output_type": "stream",
     "text": [
      "(2, 2)\n"
     ]
    }
   ],
   "source": [
    "#The interoperability between PyTorch and Numpy is essential because most datasets you'll work with will likely be read and preprocessed as Numpy arrays.\n",
    "\n",
    "import numpy as np\n",
    "\n",
    "x=np.array([[1.,2],[3,4]])\n",
    "print(x.shape)"
   ]
  },
  {
   "cell_type": "code",
   "execution_count": 22,
   "id": "7c1fe100",
   "metadata": {},
   "outputs": [
    {
     "name": "stdout",
     "output_type": "stream",
     "text": [
      "tensor([[1., 2.],\n",
      "        [3., 4.]], dtype=torch.float64)\n"
     ]
    }
   ],
   "source": [
    "#to convert numpy to tensors\n",
    "y=torch.from_numpy(x)\n",
    "print(y)"
   ]
  },
  {
   "cell_type": "code",
   "execution_count": 23,
   "id": "5880c9f0",
   "metadata": {},
   "outputs": [
    {
     "name": "stdout",
     "output_type": "stream",
     "text": [
      "[[1. 2.]\n",
      " [3. 4.]]\n"
     ]
    }
   ],
   "source": [
    "z=y.numpy()#to convert from torch tensor to numpy\n",
    "print(z)"
   ]
  },
  {
   "cell_type": "code",
   "execution_count": null,
   "id": "59452ce0",
   "metadata": {},
   "outputs": [],
   "source": []
  }
 ],
 "metadata": {
  "kernelspec": {
   "display_name": "Python 3",
   "language": "python",
   "name": "python3"
  },
  "language_info": {
   "codemirror_mode": {
    "name": "ipython",
    "version": 3
   },
   "file_extension": ".py",
   "mimetype": "text/x-python",
   "name": "python",
   "nbconvert_exporter": "python",
   "pygments_lexer": "ipython3",
   "version": "3.9.2"
  }
 },
 "nbformat": 4,
 "nbformat_minor": 5
}
