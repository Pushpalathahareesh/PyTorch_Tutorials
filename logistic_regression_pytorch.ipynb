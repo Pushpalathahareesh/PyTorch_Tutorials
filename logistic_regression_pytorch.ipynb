{
 "cells": [
  {
   "cell_type": "code",
   "execution_count": 1,
   "id": "8f53d623",
   "metadata": {},
   "outputs": [],
   "source": [
    "import torch\n",
    "import torchvision\n",
    "from torchvision.datasets import MNIST"
   ]
  },
  {
   "cell_type": "code",
   "execution_count": 2,
   "id": "8d1f792c",
   "metadata": {},
   "outputs": [
    {
     "name": "stdout",
     "output_type": "stream",
     "text": [
      "Downloading http://yann.lecun.com/exdb/mnist/train-images-idx3-ubyte.gz to data/MNIST\\raw\\train-images-idx3-ubyte.gz\n"
     ]
    },
    {
     "name": "stderr",
     "output_type": "stream",
     "text": [
      "100.0%\n"
     ]
    },
    {
     "name": "stdout",
     "output_type": "stream",
     "text": [
      "Extracting data/MNIST\\raw\\train-images-idx3-ubyte.gz to data/MNIST\\raw\n",
      "Downloading http://yann.lecun.com/exdb/mnist/train-labels-idx1-ubyte.gz to data/MNIST\\raw\\train-labels-idx1-ubyte.gz\n"
     ]
    },
    {
     "name": "stderr",
     "output_type": "stream",
     "text": [
      "102.8%\n"
     ]
    },
    {
     "name": "stdout",
     "output_type": "stream",
     "text": [
      "Extracting data/MNIST\\raw\\train-labels-idx1-ubyte.gz to data/MNIST\\raw\n",
      "Downloading http://yann.lecun.com/exdb/mnist/t10k-images-idx3-ubyte.gz to data/MNIST\\raw\\t10k-images-idx3-ubyte.gz\n"
     ]
    },
    {
     "name": "stderr",
     "output_type": "stream",
     "text": [
      "100.0%\n"
     ]
    },
    {
     "name": "stdout",
     "output_type": "stream",
     "text": [
      "Extracting data/MNIST\\raw\\t10k-images-idx3-ubyte.gz to data/MNIST\\raw\n",
      "Downloading http://yann.lecun.com/exdb/mnist/t10k-labels-idx1-ubyte.gz to data/MNIST\\raw\\t10k-labels-idx1-ubyte.gz\n"
     ]
    },
    {
     "name": "stderr",
     "output_type": "stream",
     "text": [
      "112.7%\n",
      "c:\\users\\user\\ocr\\new_env\\lib\\site-packages\\torchvision\\datasets\\mnist.py:479: UserWarning: The given NumPy array is not writeable, and PyTorch does not support non-writeable tensors. This means you can write to the underlying (supposedly non-writeable) NumPy array using the tensor. You may want to copy the array to protect its data or make it writeable before converting it to a tensor. This type of warning will be suppressed for the rest of this program. (Triggered internally at  ..\\torch\\csrc\\utils\\tensor_numpy.cpp:143.)\n",
      "  return torch.from_numpy(parsed.astype(m[2], copy=False)).view(*s)\n"
     ]
    },
    {
     "name": "stdout",
     "output_type": "stream",
     "text": [
      "Extracting data/MNIST\\raw\\t10k-labels-idx1-ubyte.gz to data/MNIST\\raw\n",
      "Processing...\n",
      "Done!\n"
     ]
    }
   ],
   "source": [
    "# Download training dataset\n",
    "dataset = MNIST(root='data/', download=True)"
   ]
  },
  {
   "cell_type": "code",
   "execution_count": 3,
   "id": "c85a5cd3",
   "metadata": {},
   "outputs": [
    {
     "data": {
      "text/plain": [
       "60000"
      ]
     },
     "execution_count": 3,
     "metadata": {},
     "output_type": "execute_result"
    }
   ],
   "source": [
    "len(dataset)"
   ]
  },
  {
   "cell_type": "code",
   "execution_count": 4,
   "id": "98c0bcad",
   "metadata": {},
   "outputs": [
    {
     "data": {
      "text/plain": [
       "10000"
      ]
     },
     "execution_count": 4,
     "metadata": {},
     "output_type": "execute_result"
    }
   ],
   "source": [
    "test_dataset = MNIST(root='data/', train=False)\n",
    "len(test_dataset)"
   ]
  },
  {
   "cell_type": "code",
   "execution_count": 5,
   "id": "183b862d",
   "metadata": {},
   "outputs": [],
   "source": [
    "import matplotlib.pyplot as plt\n",
    "%matplotlib inline"
   ]
  },
  {
   "cell_type": "code",
   "execution_count": 6,
   "id": "25d02215",
   "metadata": {},
   "outputs": [
    {
     "name": "stdout",
     "output_type": "stream",
     "text": [
      "Label: 5\n"
     ]
    },
    {
     "data": {
      "image/png": "[encoded data removed]",
      "text/plain": [
       "<Figure size 432x288 with 1 Axes>"
      ]
     },
     "metadata": {
      "needs_background": "light"
     },
     "output_type": "display_data"
    }
   ],
   "source": [
    "image, label = dataset[0]\n",
    "plt.imshow(image, cmap='gray')\n",
    "print('Label:', label)"
   ]
  },
  {
   "cell_type": "code",
   "execution_count": 7,
   "id": "f1b785a5",
   "metadata": {},
   "outputs": [],
   "source": [
    "import torchvision.transforms as transforms"
   ]
  },
  {
   "cell_type": "code",
   "execution_count": 8,
   "id": "c5cfa986",
   "metadata": {},
   "outputs": [
    {
     "name": "stdout",
     "output_type": "stream",
     "text": [
      "torch.Size([1, 28, 28]) 5\n"
     ]
    }
   ],
   "source": [
    "# MNIST dataset (images and labels)\n",
    "dataset = MNIST(root='data/', \n",
    "                train=True,\n",
    "                transform=transforms.ToTensor())\n",
    "img_tensor, label = dataset[0]\n",
    "print(img_tensor.shape, label)"
   ]
  },
  {
   "cell_type": "code",
   "execution_count": 9,
   "id": "0b60f808",
   "metadata": {},
   "outputs": [
    {
     "data": {
      "text/plain": [
       "<matplotlib.image.AxesImage at 0x127ca20a700>"
      ]
     },
     "execution_count": 9,
     "metadata": {},
     "output_type": "execute_result"
    },
    {
     "data": {
      "image/png": "[encoded data removed]",
      "text/plain": [
       "<Figure size 432x288 with 1 Axes>"
      ]
     },
     "metadata": {
      "needs_background": "light"
     },
     "output_type": "display_data"
    }
   ],
   "source": [
    "# Plot the image by passing in the 28x28 matrix\n",
    "plt.imshow(img_tensor[0,10:15,10:15], cmap='gray')"
   ]
  },
  {
   "cell_type": "code",
   "execution_count": 10,
   "id": "6f2be857",
   "metadata": {},
   "outputs": [
    {
     "data": {
      "text/plain": [
       "(50000, 10000)"
      ]
     },
     "execution_count": 10,
     "metadata": {},
     "output_type": "execute_result"
    }
   ],
   "source": [
    "from torch.utils.data import random_split\n",
    "\n",
    "train_ds, val_ds = random_split(dataset, [50000, 10000])\n",
    "len(train_ds), len(val_ds)"
   ]
  },
  {
   "cell_type": "code",
   "execution_count": 11,
   "id": "55e595a9",
   "metadata": {},
   "outputs": [],
   "source": [
    "from torch.utils.data import DataLoader\n",
    "\n",
    "batch_size = 128\n",
    "\n",
    "train_loader = DataLoader(train_ds, batch_size, shuffle=True)#can load in batches,shuffle set to true generalizez the model well\n",
    "val_loader = DataLoader(val_ds, batch_size)#since the validation data loader is used only for evaluating the model, there is no need to shuffle the images."
   ]
  },
  {
   "cell_type": "code",
   "execution_count": 12,
   "id": "6016530a",
   "metadata": {},
   "outputs": [],
   "source": [
    "import torch.nn as nn\n",
    "\n",
    "input_size=28*28\n",
    "num_classes=10\n",
    "\n",
    "#linear regression model\n",
    "model=nn.Linear(input_size,num_classes)#used to create the model"
   ]
  },
  {
   "cell_type": "code",
   "execution_count": 13,
   "id": "82c5cdb1",
   "metadata": {},
   "outputs": [
    {
     "name": "stdout",
     "output_type": "stream",
     "text": [
      "Parameter containing:\n",
      "tensor([[ 0.0306,  0.0112,  0.0031,  ...,  0.0045,  0.0313, -0.0334],\n",
      "        [-0.0316,  0.0199, -0.0091,  ...,  0.0002, -0.0309,  0.0032],\n",
      "        [ 0.0331,  0.0336,  0.0066,  ..., -0.0145,  0.0022,  0.0120],\n",
      "        ...,\n",
      "        [ 0.0231, -0.0313, -0.0034,  ...,  0.0295,  0.0226, -0.0072],\n",
      "        [-0.0087,  0.0135,  0.0033,  ...,  0.0079,  0.0079,  0.0002],\n",
      "        [ 0.0265,  0.0349, -0.0203,  ...,  0.0345,  0.0202, -0.0030]],\n",
      "       requires_grad=True)\n",
      "torch.Size([10, 784])\n"
     ]
    }
   ],
   "source": [
    "print(model.weight)\n",
    "print(model.weight.shape)"
   ]
  },
  {
   "cell_type": "code",
   "execution_count": 14,
   "id": "7e6b258a",
   "metadata": {},
   "outputs": [
    {
     "name": "stdout",
     "output_type": "stream",
     "text": [
      "torch.Size([10])\n",
      "Parameter containing:\n",
      "tensor([-0.0069,  0.0232, -0.0146,  0.0352,  0.0026, -0.0239,  0.0044, -0.0026,\n",
      "        -0.0289, -0.0238], requires_grad=True)\n"
     ]
    }
   ],
   "source": [
    "print(model.bias.shape)\n",
    "print(model.bias)"
   ]
  },
  {
   "cell_type": "code",
   "execution_count": 23,
   "id": "d7eaba71",
   "metadata": {},
   "outputs": [],
   "source": [
    "#extend the nn.Module class from PyTorch to define a custom model.\n",
    "\n",
    "class MnistModel(nn.Module):\n",
    "    def __init__(self):\n",
    "        super().__init__()\n",
    "        self.Linear=nn.Linear(input_size,num_classes)#creating the model\n",
    "    def forward(self,xb):\n",
    "        xb=xb.reshape(-1,784)#resizing the data\n",
    "        out=self.Linear(xb)\n",
    "        return out"
   ]
  },
  {
   "cell_type": "code",
   "execution_count": 24,
   "id": "6e28e825",
   "metadata": {},
   "outputs": [],
   "source": [
    "model=MnistModel()"
   ]
  },
  {
   "cell_type": "code",
   "execution_count": 25,
   "id": "ea99655e",
   "metadata": {},
   "outputs": [
    {
     "name": "stdout",
     "output_type": "stream",
     "text": [
      "Linear(in_features=784, out_features=10, bias=True)\n",
      "torch.Size([10, 784]) torch.Size([10])\n"
     ]
    }
   ],
   "source": [
    "print(model.Linear)\n",
    "print(model.Linear.weight.shape,model.Linear.bias.shape)"
   ]
  },
  {
   "cell_type": "code",
   "execution_count": 27,
   "id": "7bac0688",
   "metadata": {},
   "outputs": [
    {
     "name": "stdout",
     "output_type": "stream",
     "text": [
      "torch.Size([128, 1, 28, 28])\n",
      "outputs.shape :  torch.Size([128, 10])\n",
      "Sample outputs :\n",
      " tensor([[-0.3617, -0.0714,  0.0337, -0.2477,  0.4161, -0.1484,  0.0446,  0.2096,\n",
      "          0.0927,  0.2562],\n",
      "        [ 0.1439,  0.0963,  0.0257, -0.1697,  0.0675, -0.0586, -0.0103,  0.2288,\n",
      "         -0.2324,  0.1992]])\n"
     ]
    }
   ],
   "source": [
    "for images,labels in train_loader:\n",
    "    print(images.shape)\n",
    "    outputs=model(images)\n",
    "    break\n",
    "print('outputs.shape : ', outputs.shape)\n",
    "print('Sample outputs :\\n', outputs[:2].data)    "
   ]
  },
  {
   "cell_type": "code",
   "execution_count": 28,
   "id": "2d0ba53d",
   "metadata": {},
   "outputs": [],
   "source": [
    "import torch.nn.functional as F"
   ]
  },
  {
   "cell_type": "code",
   "execution_count": 30,
   "id": "e1e07136",
   "metadata": {},
   "outputs": [
    {
     "name": "stdout",
     "output_type": "stream",
     "text": [
      "tensor([[0.0664, 0.0888, 0.0986, 0.0744, 0.1445, 0.0822, 0.0997, 0.1176, 0.1046,\n",
      "         0.1232],\n",
      "        [0.1110, 0.1059, 0.0987, 0.0812, 0.1029, 0.0907, 0.0952, 0.1209, 0.0762,\n",
      "         0.1174]])\n"
     ]
    }
   ],
   "source": [
    "# Apply softmax for each output row\n",
    "prob=F.softmax(outputs,dim=1)#converting the logits to range between probability 0 to 1 using softwmax function\n",
    "print(prob.data[:2])"
   ]
  },
  {
   "cell_type": "code",
   "execution_count": 33,
   "id": "e27b6a1a",
   "metadata": {},
   "outputs": [
    {
     "name": "stdout",
     "output_type": "stream",
     "text": [
      "1.0\n"
     ]
    }
   ],
   "source": [
    "print(torch.sum(prob[0]).item())"
   ]
  },
  {
   "cell_type": "code",
   "execution_count": 34,
   "id": "bba71766",
   "metadata": {},
   "outputs": [],
   "source": [
    "#to compute binary cross entropy loss(ypred,ytrue)=-summation on i training samples (ytrue)* log(ypred)\n",
    "\n",
    "loss_func=F.cross_entropy(outputs,labels)"
   ]
  },
  {
   "cell_type": "code",
   "execution_count": 35,
   "id": "0457eb1e",
   "metadata": {},
   "outputs": [
    {
     "name": "stdout",
     "output_type": "stream",
     "text": [
      "tensor(2.3591, grad_fn=<NllLossBackward>)\n"
     ]
    }
   ],
   "source": [
    "print(loss_func)"
   ]
  },
  {
   "cell_type": "code",
   "execution_count": 36,
   "id": "f52af84a",
   "metadata": {},
   "outputs": [],
   "source": [
    "#extend the nn.Module class from PyTorch to define a custom model.\n",
    "\n",
    "class MnistModel(nn.Module):\n",
    "    def __init__(self):\n",
    "        super().__init__()\n",
    "        self.Linear=nn.Linear(input_size,num_classes)#creating the model\n",
    "    def forward(self,xb):\n",
    "        xb=xb.reshape(-1,784)#reshaping the data\n",
    "        out=self.Linear(xb)\n",
    "        return out\n",
    "    def training_step(self, batch):\n",
    "        images,labels=batch\n",
    "        out=self(images) \n",
    "        loss=F.cross_entropy(out,labels)#generate predictions and calculate loss function\n",
    "        return loss\n",
    "    def validation_step(self, batch):\n",
    "        images,labels=batch\n",
    "        out=self(images) \n",
    "        loss=F.cross_entropy(out,labels)#generate predictions and calculate accuracy\n",
    "        acc=accuracy(out,labels)\n",
    "        return {'val_loss':loss,'val_acc':acc}\n",
    "    def validation_epoch_end(self, outputs):\n",
    "        batch_losses = [x['val_loss'] for x in outputs]\n",
    "        epoch_loss = torch.stack(batch_losses).mean()   # Combine losses\n",
    "        batch_accs = [x['val_acc'] for x in outputs]\n",
    "        epoch_acc = torch.stack(batch_accs).mean()      # Combine accuracies\n",
    "        return {'val_loss': epoch_loss.item(), 'val_acc': epoch_acc.item()}\n",
    "    \n",
    "    def epoch_end(self, epoch, result):\n",
    "        print(\"Epoch [{}], val_loss: {:.4f}, val_acc: {:.4f}\".format(epoch, result['val_loss'], result['val_acc']))\n",
    "    \n",
    "model = MnistModel()\n",
    "        \n",
    "    "
   ]
  },
  {
   "cell_type": "code",
   "execution_count": 37,
   "id": "0fffc740",
   "metadata": {},
   "outputs": [],
   "source": [
    "def evaluate(model, val_loader):\n",
    "    outputs = [model.validation_step(batch) for batch in val_loader]\n",
    "    return model.validation_epoch_end(outputs)"
   ]
  },
  {
   "cell_type": "code",
   "execution_count": 41,
   "id": "e7e9ff0f",
   "metadata": {},
   "outputs": [],
   "source": [
    "def accuracy(outputs, labels):\n",
    "    _, preds = torch.max(outputs, dim=1)\n",
    "    return torch.tensor(torch.sum(preds == labels).item() / len(preds))"
   ]
  },
  {
   "cell_type": "code",
   "execution_count": 42,
   "id": "bc6cb7f6",
   "metadata": {},
   "outputs": [],
   "source": [
    "#The fit function records the validation loss and metric from each epoch. It returns a history of the training, useful for debugging & visualization.\n",
    "def fit(epochs, lr, model, train_loader, val_loader, opt_func=torch.optim.SGD):\n",
    "    optimizer = opt_func(model.parameters(), lr)\n",
    "    history = [] # for recording epoch-wise results\n",
    "    \n",
    "    for epoch in range(epochs):\n",
    "        \n",
    "        # Training Phase \n",
    "        for batch in train_loader:\n",
    "            loss = model.training_step(batch)#generate pred and calc loss\n",
    "            loss.backward()#compute gradient\n",
    "            optimizer.step()#update weigts\n",
    "            optimizer.zero_grad()#reset grad\n",
    "        \n",
    "        # Validation phase\n",
    "        result = evaluate(model, val_loader)#generate pred and cal validation acc\n",
    "        model.epoch_end(epoch, result)\n",
    "        history.append(result)\n",
    "\n",
    "    return history"
   ]
  },
  {
   "cell_type": "code",
   "execution_count": 43,
   "id": "39b5bf7f",
   "metadata": {},
   "outputs": [
    {
     "name": "stdout",
     "output_type": "stream",
     "text": [
      "Epoch [0], val_loss: 1.6779, val_acc: 0.7485\n",
      "Epoch [1], val_loss: 1.4774, val_acc: 0.7767\n",
      "Epoch [2], val_loss: 1.3259, val_acc: 0.7931\n",
      "Epoch [3], val_loss: 1.2091, val_acc: 0.8032\n",
      "Epoch [4], val_loss: 1.1174, val_acc: 0.8118\n"
     ]
    }
   ],
   "source": [
    "history1 = fit(5, 0.001, model, train_loader, val_loader)#trained for 5 epochs,LR=0.001"
   ]
  },
  {
   "cell_type": "code",
   "execution_count": 46,
   "id": "b3413213",
   "metadata": {},
   "outputs": [
    {
     "name": "stdout",
     "output_type": "stream",
     "text": [
      "Epoch [0], val_loss: 1.0372, val_acc: 0.8176\n",
      "Epoch [1], val_loss: 1.0308, val_acc: 0.8179\n",
      "Epoch [2], val_loss: 1.0244, val_acc: 0.8182\n",
      "Epoch [3], val_loss: 1.0182, val_acc: 0.8185\n",
      "Epoch [4], val_loss: 1.0122, val_acc: 0.8189\n",
      "Epoch [5], val_loss: 1.0062, val_acc: 0.8193\n",
      "Epoch [6], val_loss: 1.0004, val_acc: 0.8198\n",
      "Epoch [7], val_loss: 0.9946, val_acc: 0.8204\n",
      "Epoch [8], val_loss: 0.9890, val_acc: 0.8209\n",
      "Epoch [9], val_loss: 0.9835, val_acc: 0.8216\n"
     ]
    }
   ],
   "source": [
    "history2 = fit(10, 0.0001, model, train_loader, val_loader)#trained for 5 epochs,LR=0.001"
   ]
  },
  {
   "cell_type": "code",
   "execution_count": 47,
   "id": "6e8f786a",
   "metadata": {},
   "outputs": [
    {
     "name": "stdout",
     "output_type": "stream",
     "text": [
      "{'val_loss': 0.9834649562835693, 'val_acc': 0.8215981125831604}\n"
     ]
    }
   ],
   "source": [
    "result0 = evaluate(model, val_loader)\n",
    "print(result0)"
   ]
  },
  {
   "cell_type": "code",
   "execution_count": 48,
   "id": "ac9b7d2d",
   "metadata": {},
   "outputs": [
    {
     "data": {
      "image/png": "[encoded data removed]",
      "text/plain": [
       "<Figure size 432x288 with 1 Axes>"
      ]
     },
     "metadata": {
      "needs_background": "light"
     },
     "output_type": "display_data"
    }
   ],
   "source": [
    "history = [result0] + history1 + history2\n",
    "accuracies = [result['val_acc'] for result in history]\n",
    "plt.plot(accuracies, '-x')\n",
    "plt.xlabel('epoch')\n",
    "plt.ylabel('accuracy')\n",
    "plt.title('Accuracy vs. No. of epochs');"
   ]
  },
  {
   "cell_type": "code",
   "execution_count": 49,
   "id": "43e58f65",
   "metadata": {},
   "outputs": [],
   "source": [
    "#Testing with individual images\n",
    "\n",
    "test_dataset = MNIST(root='data/', \n",
    "                     train=False,\n",
    "                     transform=transforms.ToTensor())"
   ]
  },
  {
   "cell_type": "code",
   "execution_count": 51,
   "id": "a8444be2",
   "metadata": {},
   "outputs": [
    {
     "name": "stdout",
     "output_type": "stream",
     "text": [
      "torch.Size([1, 28, 28])\n",
      "Shape: torch.Size([1, 28, 28])\n",
      "Label: 4\n"
     ]
    },
    {
     "data": {
      "image/png": "[encoded data removed]",
      "text/plain": [
       "<Figure size 432x288 with 1 Axes>"
      ]
     },
     "metadata": {
      "needs_background": "light"
     },
     "output_type": "display_data"
    }
   ],
   "source": [
    "#display of image\n",
    "img, label = test_dataset[4]\n",
    "print(img.shape)\n",
    "plt.imshow(img[0], cmap='gray')\n",
    "print('Shape:', img.shape)\n",
    "print('Label:', label)"
   ]
  },
  {
   "cell_type": "code",
   "execution_count": 52,
   "id": "7760d6c5",
   "metadata": {},
   "outputs": [
    {
     "data": {
      "text/plain": [
       "{'val_loss': 0.9573124647140503, 'val_acc': 0.8306640386581421}"
      ]
     },
     "execution_count": 52,
     "metadata": {},
     "output_type": "execute_result"
    }
   ],
   "source": [
    "# overall loss and accuracy of the model on the test set\n",
    "test_loader = DataLoader(test_dataset, batch_size=256)\n",
    "result = evaluate(model, test_loader)\n",
    "result"
   ]
  },
  {
   "cell_type": "code",
   "execution_count": 53,
   "id": "bd048081",
   "metadata": {},
   "outputs": [],
   "source": [
    "#saving and loading the model for later use\n",
    "torch.save(model.state_dict(), 'mnist-logistic.pth')"
   ]
  },
  {
   "cell_type": "code",
   "execution_count": 54,
   "id": "cd4273ce",
   "metadata": {},
   "outputs": [
    {
     "name": "stdout",
     "output_type": "stream",
     "text": [
      "OrderedDict([('Linear.weight', tensor([[-0.0176,  0.0138,  0.0115,  ..., -0.0255, -0.0177,  0.0220],\n",
      "        [ 0.0167, -0.0219,  0.0009,  ..., -0.0057,  0.0025,  0.0177],\n",
      "        [ 0.0327,  0.0104,  0.0259,  ..., -0.0037,  0.0287, -0.0126],\n",
      "        ...,\n",
      "        [ 0.0065,  0.0181,  0.0113,  ...,  0.0179,  0.0172, -0.0027],\n",
      "        [-0.0257,  0.0120, -0.0088,  ...,  0.0270,  0.0114,  0.0155],\n",
      "        [ 0.0219, -0.0293, -0.0017,  ..., -0.0306,  0.0206,  0.0089]])), ('Linear.bias', tensor([-0.0344,  0.0220,  0.0185,  0.0025,  0.0356, -0.0216,  0.0193,  0.0220,\n",
      "        -0.0290, -0.0254]))])\n"
     ]
    }
   ],
   "source": [
    "print(model.state_dict())#ordereddict enclosing weigths and bias matrices"
   ]
  },
  {
   "cell_type": "code",
   "execution_count": 56,
   "id": "d5dcef6e",
   "metadata": {},
   "outputs": [
    {
     "data": {
      "text/plain": [
       "OrderedDict([('Linear.weight',\n",
       "              tensor([[-0.0176,  0.0138,  0.0115,  ..., -0.0255, -0.0177,  0.0220],\n",
       "                      [ 0.0167, -0.0219,  0.0009,  ..., -0.0057,  0.0025,  0.0177],\n",
       "                      [ 0.0327,  0.0104,  0.0259,  ..., -0.0037,  0.0287, -0.0126],\n",
       "                      ...,\n",
       "                      [ 0.0065,  0.0181,  0.0113,  ...,  0.0179,  0.0172, -0.0027],\n",
       "                      [-0.0257,  0.0120, -0.0088,  ...,  0.0270,  0.0114,  0.0155],\n",
       "                      [ 0.0219, -0.0293, -0.0017,  ..., -0.0306,  0.0206,  0.0089]])),\n",
       "             ('Linear.bias',\n",
       "              tensor([-0.0344,  0.0220,  0.0185,  0.0025,  0.0356, -0.0216,  0.0193,  0.0220,\n",
       "                      -0.0290, -0.0254]))])"
      ]
     },
     "execution_count": 56,
     "metadata": {},
     "output_type": "execute_result"
    }
   ],
   "source": [
    "model2.load_state_dict(torch.load('mnist-logistic.pth'))\n",
    "model2.state_dict()"
   ]
  },
  {
   "cell_type": "code",
   "execution_count": 59,
   "id": "826b722b",
   "metadata": {},
   "outputs": [
    {
     "name": "stdout",
     "output_type": "stream",
     "text": [
      "{'val_loss': 2.319120168685913, 'val_acc': 0.09396254271268845}\n"
     ]
    }
   ],
   "source": [
    "model2 = MnistModel()\n",
    "\n",
    "test_loader = DataLoader(test_dataset, batch_size=512)\n",
    "result = evaluate(model2, test_loader)\n",
    "print(result)"
   ]
  },
  {
   "cell_type": "code",
   "execution_count": null,
   "id": "1832d204",
   "metadata": {},
   "outputs": [],
   "source": []
  }
 ],
 "metadata": {
  "kernelspec": {
   "display_name": "Python 3",
   "language": "python",
   "name": "python3"
  },
  "language_info": {
   "codemirror_mode": {
    "name": "ipython",
    "version": 3
   },
   "file_extension": ".py",
   "mimetype": "text/x-python",
   "name": "python",
   "nbconvert_exporter": "python",
   "pygments_lexer": "ipython3",
   "version": "3.9.2"
  }
 },
 "nbformat": 4,
 "nbformat_minor": 5
}
